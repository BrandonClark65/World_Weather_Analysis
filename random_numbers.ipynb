{
 "cells": [
  {
   "cell_type": "code",
   "execution_count": 3,
   "id": "9e005ed5",
   "metadata": {},
   "outputs": [],
   "source": [
    "# Import the random module.\n",
    "import random"
   ]
  },
  {
   "cell_type": "code",
   "execution_count": 5,
   "id": "1aae5a4c",
   "metadata": {},
   "outputs": [
    {
     "data": {
      "text/plain": [
       "67"
      ]
     },
     "execution_count": 5,
     "metadata": {},
     "output_type": "execute_result"
    }
   ],
   "source": [
    "random.randint(-90, 90)"
   ]
  },
  {
   "cell_type": "code",
   "execution_count": 7,
   "id": "9c0b0048",
   "metadata": {},
   "outputs": [
    {
     "data": {
      "text/plain": [
       "0.5783040838520727"
      ]
     },
     "execution_count": 7,
     "metadata": {},
     "output_type": "execute_result"
    }
   ],
   "source": [
    "random.random()"
   ]
  },
  {
   "cell_type": "code",
   "execution_count": 8,
   "id": "8a096b0b",
   "metadata": {},
   "outputs": [],
   "source": [
    "x = 1\n",
    "latitudes = []\n",
    "while x < 11:\n",
    "    random_lat = random.randint(-90, 89) + random.random()\n",
    "    latitudes.append(random_lat)\n",
    "    x += 1"
   ]
  },
  {
   "cell_type": "code",
   "execution_count": 9,
   "id": "8202a74f",
   "metadata": {},
   "outputs": [
    {
     "data": {
      "text/plain": [
       "[-35.49269490816411,\n",
       " -7.395596986873189,\n",
       " -88.03037451541508,\n",
       " -13.447465689558975,\n",
       " -39.042137385482285,\n",
       " 38.811971317396136,\n",
       " -63.163984765491946,\n",
       " 65.21034738587888,\n",
       " -62.6780149428148,\n",
       " -50.03161382142342]"
      ]
     },
     "execution_count": 9,
     "metadata": {},
     "output_type": "execute_result"
    }
   ],
   "source": [
    "latitudes"
   ]
  },
  {
   "cell_type": "code",
   "execution_count": 10,
   "id": "7ff77533",
   "metadata": {},
   "outputs": [
    {
     "data": {
      "text/plain": [
       "-55.84582275911796"
      ]
     },
     "execution_count": 10,
     "metadata": {},
     "output_type": "execute_result"
    }
   ],
   "source": [
    "random.uniform(-90, 90)"
   ]
  },
  {
   "cell_type": "code",
   "execution_count": 11,
   "id": "75830173",
   "metadata": {},
   "outputs": [],
   "source": [
    "# Import the NumPy module.\n",
    "import numpy as np"
   ]
  },
  {
   "cell_type": "code",
   "execution_count": 12,
   "id": "dfd10cc5",
   "metadata": {},
   "outputs": [
    {
     "data": {
      "text/plain": [
       "24.566917925197956"
      ]
     },
     "execution_count": 12,
     "metadata": {},
     "output_type": "execute_result"
    }
   ],
   "source": [
    "np.random.uniform(-90.000, 90.000)"
   ]
  },
  {
   "cell_type": "code",
   "execution_count": 13,
   "id": "30edf18f",
   "metadata": {},
   "outputs": [
    {
     "data": {
      "text/plain": [
       "array([  6.21992722, -68.57138552,  -5.73212397, -11.78782986,\n",
       "       -13.66552098, -56.71795365, -20.62685738, -78.43441024,\n",
       "       -67.79588552, -25.46671883,  51.41710471,  46.27140531,\n",
       "         6.65365764, -34.974934  , -52.53023167,  67.52372635,\n",
       "       -32.22385725,  41.27110756, -70.36917112, -17.0989228 ,\n",
       "       -77.44347444,   5.51945092, -47.33014256, -43.92341714,\n",
       "       -18.67345774,  41.19332968, -27.99326405,  66.04489078,\n",
       "       -52.04163581, -28.47581005,  10.01139951,  16.7646623 ,\n",
       "       -68.2009812 , -62.62706969,  81.86863516,  46.55513212,\n",
       "        -8.3593734 ,   1.53110069,  53.01177886, -41.13028749,\n",
       "        14.80116959,  23.54697519,  61.69421037,  56.24114191,\n",
       "        83.44717348,  63.23935925, -69.02629121,  -5.19712338,\n",
       "        10.5421736 , -32.54750929])"
      ]
     },
     "execution_count": 13,
     "metadata": {},
     "output_type": "execute_result"
    }
   ],
   "source": [
    "np.random.uniform(-90.000, 90.000, size=50)"
   ]
  },
  {
   "cell_type": "code",
   "execution_count": 14,
   "id": "c35c06d7",
   "metadata": {},
   "outputs": [],
   "source": [
    "# Import timeit.\n",
    "import timeit"
   ]
  },
  {
   "cell_type": "code",
   "execution_count": 15,
   "id": "35767ce0",
   "metadata": {},
   "outputs": [
    {
     "name": "stdout",
     "output_type": "stream",
     "text": [
      "21.4 µs ± 1.84 µs per loop (mean ± std. dev. of 7 runs, 10000 loops each)\n"
     ]
    }
   ],
   "source": [
    "%timeit np.random.uniform(-90.000, 90.000, size=1500)"
   ]
  },
  {
   "cell_type": "code",
   "execution_count": 16,
   "id": "01581361",
   "metadata": {},
   "outputs": [
    {
     "name": "stdout",
     "output_type": "stream",
     "text": [
      "2.95 ms ± 127 µs per loop (mean ± std. dev. of 7 runs, 100 loops each)\n"
     ]
    }
   ],
   "source": [
    "def latitudes(size):\n",
    "    latitudes = []\n",
    "    x = 0\n",
    "    while x < (size):\n",
    "        random_lat = random.randint(-90, 90) + random.random()\n",
    "        latitudes.append(random_lat)\n",
    "        x += 1\n",
    "    return latitudes\n",
    "# Call the function with 1500.\n",
    "%timeit latitudes(1500)"
   ]
  },
  {
   "cell_type": "code",
   "execution_count": null,
   "id": "8c26e299",
   "metadata": {},
   "outputs": [],
   "source": [
    "x=1\n",
    "latitudes = []\n",
    "for x<1500\n",
    "    random_lat = random.randint(-90,90) + random.random()\n",
    "    latitudes.append(random_lat)\n",
    "    x += 1\n",
    "    "
   ]
  }
 ],
 "metadata": {
  "kernelspec": {
   "display_name": "PythonData",
   "language": "python",
   "name": "pythondata"
  },
  "language_info": {
   "codemirror_mode": {
    "name": "ipython",
    "version": 3
   },
   "file_extension": ".py",
   "mimetype": "text/x-python",
   "name": "python",
   "nbconvert_exporter": "python",
   "pygments_lexer": "ipython3",
   "version": "3.7.11"
  }
 },
 "nbformat": 4,
 "nbformat_minor": 5
}
